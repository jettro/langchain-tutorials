{
 "cells": [
  {
   "cell_type": "markdown",
   "source": [
    "# Tutorial for the Langchain functions chain\n",
    "In this notebook you'll see the steps to run a chain that helps you to choose the right path depending on the query as provided by the user. To help you understand the concepts, we left out all the interaction with external data sources. We leave it up to your imagination to connect the different functions to real data."
   ],
   "metadata": {
    "collapsed": false
   },
   "id": "d1289a0783c3ec59"
  },
  {
   "cell_type": "code",
   "execution_count": 3,
   "outputs": [
    {
     "data": {
      "text/plain": "True"
     },
     "execution_count": 3,
     "metadata": {},
     "output_type": "execute_result"
    }
   ],
   "source": [
    "import os\n",
    "from dotenv import load_dotenv\n",
    "\n",
    "load_dotenv()"
   ],
   "metadata": {
    "collapsed": false,
    "ExecuteTime": {
     "end_time": "2023-09-26T07:41:20.389266Z",
     "start_time": "2023-09-26T07:41:20.381857Z"
    }
   },
   "id": "e4f4c489431bb0fa"
  },
  {
   "cell_type": "markdown",
   "source": [
    "## Functions to call\n",
    "Below are the three functions that should call the datasource that provides the answer to the question at hand."
   ],
   "metadata": {
    "collapsed": false
   },
   "id": "ad642374db4556a6"
  },
  {
   "cell_type": "code",
   "execution_count": 2,
   "id": "initial_id",
   "metadata": {
    "collapsed": true,
    "ExecuteTime": {
     "end_time": "2023-09-26T07:22:34.420275Z",
     "start_time": "2023-09-26T07:22:34.416871Z"
    }
   },
   "outputs": [],
   "source": [
    "def search_products(query: str) -> dict:\n",
    "    \"\"\"\n",
    "    Searches for products using the provided keywords\n",
    "    \n",
    "    Args:\n",
    "        query: The questions asked by the user in the form of a few keywords        \n",
    "    \"\"\"\n",
    "    print(f\"search_products: {query}\")\n",
    "    return {\n",
    "        \"products\": [\n",
    "            {\"name\": \"Product 1\", \"price\": \"€ 12,00\", \"description\": \"The best product there is.\"},\n",
    "            {\"name\": \"Product 2\", \"price\": \"€ 23,00\", \"description\": \"The most expensive product there is.\"},\n",
    "        ]\n",
    "    }\n",
    "\n",
    "\n",
    "def search_answer(question: str) -> dict:\n",
    "    \"\"\"\n",
    "    Generates an answer to the provided question about our store like: account information, return policy, vision, values, sustainability.\n",
    "    \n",
    "    Args:\n",
    "        question: The question the user wants an answer for \n",
    "    \"\"\"\n",
    "    print(f\"search_answer: {question}\")\n",
    "    return {\n",
    "        \"answer\": \"The answer to all questions related to the galaxy is 42\",\n",
    "        \"source_documents\": [\n",
    "            {\n",
    "                \"url\": \"https://en.wikipedia.org/wiki/The_Hitchhiker%27s_Guide_to_the_Galaxy\"\n",
    "            }\n",
    "        ]\n",
    "    }\n",
    "\n",
    "\n",
    "def search_data(day_of_the_year: str) -> dict:\n",
    "    \"\"\"\n",
    "    Obtain sales data for the provided day.\n",
    "\n",
    "    Args:\n",
    "        day_of_the_year: The day to obtain sales data for, format of the date string is yyyy-MM-dd\n",
    "    \"\"\"\n",
    "    print(f\"search_answer: {day_of_the_year}\")\n",
    "    return {\n",
    "        \"products_sold\": 42,\n",
    "        \"customer_visits\": 3223\n",
    "    }"
   ]
  },
  {
   "cell_type": "markdown",
   "source": [
    "## Choose the function to call\n",
    "Use a large language model decide which function to call."
   ],
   "metadata": {
    "collapsed": false
   },
   "id": "82f4fa524575871e"
  },
  {
   "cell_type": "code",
   "execution_count": 4,
   "outputs": [],
   "source": [
    "from langchain.chains.openai_functions import create_openai_fn_chain\n",
    "from langchain.prompts import ChatPromptTemplate\n",
    "from langchain.chat_models import ChatOpenAI\n",
    "\n",
    "\n",
    "def init_fn_chain():\n",
    "    llm = ChatOpenAI(model=\"gpt-4\", temperature=0, openai_api_key=os.getenv('OPEN_AI_API_KEY'))\n",
    "    prompt = ChatPromptTemplate.from_messages(\n",
    "        [\n",
    "            (\"system\", \"You are a system to search for answers on a provided question.\"),\n",
    "            (\"human\", \"Make calls to the relevant function using the following input: {input}\"),\n",
    "            (\"human\", \"Tip: Make sure to answer in the correct format\"),\n",
    "        ]\n",
    "    )\n",
    "\n",
    "    return create_openai_fn_chain(\n",
    "        functions=[search_products, search_answer, search_data],\n",
    "        llm=llm,\n",
    "        prompt=prompt,\n",
    "        verbose=True\n",
    "    )\n"
   ],
   "metadata": {
    "collapsed": false,
    "ExecuteTime": {
     "end_time": "2023-09-26T07:41:30.096504Z",
     "start_time": "2023-09-26T07:41:26.358078Z"
    }
   },
   "id": "8cdb8f8e4f7d60fb"
  },
  {
   "cell_type": "markdown",
   "source": [
    "## Initialise the chain\n",
    "Create the chain and the code to call the python function using the result from the chain."
   ],
   "metadata": {
    "collapsed": false
   },
   "id": "ce4b77fe3834ae5b"
  },
  {
   "cell_type": "code",
   "execution_count": 5,
   "outputs": [],
   "source": [
    "chain = init_fn_chain()\n",
    "\n",
    "functions_map = {\n",
    "    'search_products': search_products,\n",
    "    'search_answer': search_answer,\n",
    "    'search_data': search_data\n",
    "}\n",
    "\n",
    "\n",
    "def call_the_right_function(question: str):\n",
    "    chain_response = chain.run(question)\n",
    "    print(f\"The response of the chain is {chain_response}\")\n",
    "    function_name = chain_response[\"name\"]\n",
    "    args = chain_response[\"arguments\"]\n",
    "\n",
    "    if function_name not in functions_map:\n",
    "        chain_response[\"response\"] = f\"Could not decide which content search to perform for name '{function_name}'\"\n",
    "    else:\n",
    "        chain_response[\"response\"] = functions_map[function_name](**args)\n",
    "\n",
    "    return chain_response\n"
   ],
   "metadata": {
    "collapsed": false,
    "ExecuteTime": {
     "end_time": "2023-09-26T08:24:24.288945Z",
     "start_time": "2023-09-26T08:24:24.262141Z"
    }
   },
   "id": "489e1e0e194509ec"
  },
  {
   "cell_type": "markdown",
   "source": [
    "## Verify multiple questions\n",
    "Uses the provided question and expected answer combinations to verify if the function is working as expected."
   ],
   "metadata": {
    "collapsed": false
   },
   "id": "5f528141e65c39d4"
  },
  {
   "cell_type": "code",
   "execution_count": 12,
   "outputs": [],
   "source": [
    "def verify_results(questions: list) -> list:\n",
    "    results = []\n",
    "    for question, correct_answer in questions:\n",
    "        resulting_answer = call_the_right_function(question=question)\n",
    "        results.append(f\"{str(resulting_answer['name'] == correct_answer)}: {question}\")\n",
    "    return results\n"
   ],
   "metadata": {
    "collapsed": false,
    "ExecuteTime": {
     "end_time": "2023-09-26T08:38:15.307882Z",
     "start_time": "2023-09-26T08:38:15.299796Z"
    }
   },
   "id": "27c32085d63d233"
  },
  {
   "cell_type": "markdown",
   "source": [
    "## Run the sample\n",
    "Executes the chain using three different questions that all must be calling one of the three functions."
   ],
   "metadata": {
    "collapsed": false
   },
   "id": "788c3db73d050b78"
  },
  {
   "cell_type": "code",
   "execution_count": 14,
   "outputs": [
    {
     "name": "stdout",
     "output_type": "stream",
     "text": [
      "\n",
      "\n",
      "\u001B[1m> Entering new LLMChain chain...\u001B[0m\n",
      "Prompt after formatting:\n",
      "\u001B[32;1m\u001B[1;3mSystem: You are a system to search for answers on a provided question.\n",
      "Human: Make calls to the relevant function using the following input: What books do you have about life hacking\n",
      "Human: Tip: Make sure to answer in the correct format\u001B[0m\n",
      "\n",
      "\u001B[1m> Finished chain.\u001B[0m\n",
      "The response of the chain is {'name': 'search_products', 'arguments': {'query': 'life hacking books'}}\n",
      "search_products: life hacking books\n",
      "\n",
      "\n",
      "\u001B[1m> Entering new LLMChain chain...\u001B[0m\n",
      "Prompt after formatting:\n",
      "\u001B[32;1m\u001B[1;3mSystem: You are a system to search for answers on a provided question.\n",
      "Human: Make calls to the relevant function using the following input: how many books did we sell the 14th of July 2023\n",
      "Human: Tip: Make sure to answer in the correct format\u001B[0m\n",
      "\n",
      "\u001B[1m> Finished chain.\u001B[0m\n",
      "The response of the chain is {'name': 'search_data', 'arguments': {'day_of_the_year': '2023-07-14'}}\n",
      "search_answer: 2023-07-14\n",
      "\n",
      "\n",
      "\u001B[1m> Entering new LLMChain chain...\u001B[0m\n",
      "Prompt after formatting:\n",
      "\u001B[32;1m\u001B[1;3mSystem: You are a system to search for answers on a provided question.\n",
      "Human: Make calls to the relevant function using the following input: Do I need an account before I can purchase something?\n",
      "Human: Tip: Make sure to answer in the correct format\u001B[0m\n",
      "\n",
      "\u001B[1m> Finished chain.\u001B[0m\n",
      "The response of the chain is {'name': 'search_answer', 'arguments': {'question': 'Do I need an account before I can purchase something?'}}\n",
      "search_answer: Do I need an account before I can purchase something?\n",
      "True: What books do you have about life hacking\n",
      "True: how many books did we sell the 14th of July 2023\n",
      "True: Do I need an account before I can purchase something?\n"
     ]
    }
   ],
   "source": [
    "user_questions = [\n",
    "    (\"What books do you have about life hacking\", \"search_products\"),\n",
    "    (\"how many books did we sell the 14th of July 2023\", \"search_data\"),\n",
    "    (\"Do I need an account before I can purchase something?\", \"search_answer\")\n",
    "]\n",
    "\n",
    "for answer in verify_results(user_questions):\n",
    "    print(answer)"
   ],
   "metadata": {
    "collapsed": false,
    "ExecuteTime": {
     "end_time": "2023-09-26T08:53:23.885913Z",
     "start_time": "2023-09-26T08:53:12.533987Z"
    }
   },
   "id": "5de15f2f4eab04c0"
  }
 ],
 "metadata": {
  "kernelspec": {
   "display_name": "Python 3",
   "language": "python",
   "name": "python3"
  },
  "language_info": {
   "codemirror_mode": {
    "name": "ipython",
    "version": 2
   },
   "file_extension": ".py",
   "mimetype": "text/x-python",
   "name": "python",
   "nbconvert_exporter": "python",
   "pygments_lexer": "ipython2",
   "version": "2.7.6"
  }
 },
 "nbformat": 4,
 "nbformat_minor": 5
}
