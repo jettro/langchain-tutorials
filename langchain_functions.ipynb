{
 "cells": [
  {
   "cell_type": "markdown",
   "source": [
    "# Tutorial for the Langchain functions chain\n",
    "In this notebook you'll see the steps to run a chain that helps you to choose the right path depending on the query as provided by the user. To help you understand the concepts, we left out all the interaction with external data sources. We leave it up to your imagination to connect the different functions to real data."
   ],
   "metadata": {
    "collapsed": false
   },
   "id": "d1289a0783c3ec59"
  },
  {
   "cell_type": "code",
   "execution_count": null,
   "id": "initial_id",
   "metadata": {
    "collapsed": true
   },
   "outputs": [],
   "source": [
    "def search_products(query: str) -> dict:\n",
    "    \"\"\"\n",
    "    Searches for products using the provided keywords\n",
    "    \n",
    "    Args:\n",
    "        query: The questions asked by the user in the form of a few keywords        \n",
    "    \"\"\"\n",
    "    print(f\"search_products: {query}\")\n",
    "    return {\n",
    "        \"products\": [\n",
    "            {\"name\": \"Product 1\", \"price\": \"€ 12,00\", \"description\": \"The best product there is.\"},\n",
    "            {\"name\": \"Product 2\", \"price\": \"€ 23,00\", \"description\": \"The most expensive product there is.\"},\n",
    "        ]\n",
    "    }\n",
    "\n",
    "def search_answer(question: str) -> dict:\n",
    "    \"\"\"\n",
    "    Generates an answer to the provided question about our store like: account information, return policy, vision, values, sustainability.\n",
    "    \n",
    "    Args:\n",
    "        question: The question the user wants an answer for \n",
    "    \"\"\"\n",
    "    print(f\"search_answer: {question}\")\n",
    "    return {\n",
    "        \"answer\": \"The answer to all questions related to the galaxy is 42\",\n",
    "        \"source_documents\": [\n",
    "            {\n",
    "                \"url\": \"https://en.wikipedia.org/wiki/The_Hitchhiker%27s_Guide_to_the_Galaxy\"\n",
    "            }\n",
    "        ]\n",
    "    }\n",
    "\n",
    "def search_data(day_of_the_year: str) -> dict:\n",
    "    \"\"\"\n",
    "    Obtain sales data for the provided day.\n",
    "\n",
    "    Args:\n",
    "        day_of_the_year: The day to obtain sales data for, format of the date string is yyyy-MM-dd\n",
    "    \"\"\"\n",
    "    print(f\"search_answer: {day_of_the_year}\")\n",
    "    return {\n",
    "        \"products_sold\": 42,\n",
    "        \"customer_visits\": 3223\n",
    "    }"
   ]
  }
 ],
 "metadata": {
  "kernelspec": {
   "display_name": "Python 3",
   "language": "python",
   "name": "python3"
  },
  "language_info": {
   "codemirror_mode": {
    "name": "ipython",
    "version": 2
   },
   "file_extension": ".py",
   "mimetype": "text/x-python",
   "name": "python",
   "nbconvert_exporter": "python",
   "pygments_lexer": "ipython2",
   "version": "2.7.6"
  }
 },
 "nbformat": 4,
 "nbformat_minor": 5
}
